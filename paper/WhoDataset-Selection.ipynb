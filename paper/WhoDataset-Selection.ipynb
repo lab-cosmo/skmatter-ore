{
 "cells": [
  {
   "cell_type": "markdown",
   "id": "b4d4037c",
   "metadata": {},
   "source": [
    "# Feature Selection on the WHO Dataset"
   ]
  },
  {
   "cell_type": "code",
   "execution_count": 1,
   "id": "170654ee",
   "metadata": {},
   "outputs": [],
   "source": [
    "import pandas as pd\n",
    "from matplotlib import pyplot as plt\n",
    "import numpy as np\n",
    "from tqdm.auto import tqdm\n",
    "from sklearn.kernel_ridge import KernelRidge\n",
    "from sklearn.model_selection import train_test_split\n",
    "from skmatter.preprocessing import StandardFlexibleScaler\n",
    "from skmatter.feature_selection import PCovFPS, PCovCUR, FPS, CUR\n",
    "from skmatter.datasets import load_who_dataset"
   ]
  },
  {
   "cell_type": "markdown",
   "id": "56a21458",
   "metadata": {},
   "source": [
    "## Load the Dataset"
   ]
  },
  {
   "cell_type": "code",
   "execution_count": 2,
   "id": "2e557754",
   "metadata": {},
   "outputs": [
    {
     "data": {
      "text/html": [
       "<div>\n",
       "<style scoped>\n",
       "    .dataframe tbody tr th:only-of-type {\n",
       "        vertical-align: middle;\n",
       "    }\n",
       "\n",
       "    .dataframe tbody tr th {\n",
       "        vertical-align: top;\n",
       "    }\n",
       "\n",
       "    .dataframe thead th {\n",
       "        text-align: right;\n",
       "    }\n",
       "</style>\n",
       "<table border=\"1\" class=\"dataframe\">\n",
       "  <thead>\n",
       "    <tr style=\"text-align: right;\">\n",
       "      <th></th>\n",
       "      <th>Country</th>\n",
       "      <th>Year</th>\n",
       "      <th>SP.POP.TOTL</th>\n",
       "      <th>SH.TBS.INCD</th>\n",
       "      <th>SH.IMM.MEAS</th>\n",
       "      <th>SE.XPD.TOTL.GD.ZS</th>\n",
       "      <th>SH.DYN.AIDS.ZS</th>\n",
       "      <th>SP.DYN.LE00.IN</th>\n",
       "      <th>SH.IMM.IDPT</th>\n",
       "      <th>SH.XPD.CHEX.GD.ZS</th>\n",
       "      <th>SN.ITK.DEFC.ZS</th>\n",
       "      <th>NY.GDP.PCAP.CD</th>\n",
       "    </tr>\n",
       "  </thead>\n",
       "  <tbody>\n",
       "    <tr>\n",
       "      <th>0</th>\n",
       "      <td>Afghanistan</td>\n",
       "      <td>2005</td>\n",
       "      <td>24411191.0</td>\n",
       "      <td>189.0</td>\n",
       "      <td>50.0</td>\n",
       "      <td>2.57000</td>\n",
       "      <td>0.1</td>\n",
       "      <td>58.361</td>\n",
       "      <td>58.0</td>\n",
       "      <td>9.948290</td>\n",
       "      <td>36.1</td>\n",
       "      <td>255.055120</td>\n",
       "    </tr>\n",
       "    <tr>\n",
       "      <th>1</th>\n",
       "      <td>Afghanistan</td>\n",
       "      <td>2006</td>\n",
       "      <td>25442944.0</td>\n",
       "      <td>189.0</td>\n",
       "      <td>53.0</td>\n",
       "      <td>2.90000</td>\n",
       "      <td>0.1</td>\n",
       "      <td>58.684</td>\n",
       "      <td>58.0</td>\n",
       "      <td>10.622766</td>\n",
       "      <td>33.3</td>\n",
       "      <td>274.000486</td>\n",
       "    </tr>\n",
       "    <tr>\n",
       "      <th>2</th>\n",
       "      <td>Afghanistan</td>\n",
       "      <td>2007</td>\n",
       "      <td>25903301.0</td>\n",
       "      <td>189.0</td>\n",
       "      <td>55.0</td>\n",
       "      <td>2.85000</td>\n",
       "      <td>0.1</td>\n",
       "      <td>59.111</td>\n",
       "      <td>63.0</td>\n",
       "      <td>9.904675</td>\n",
       "      <td>29.8</td>\n",
       "      <td>375.078128</td>\n",
       "    </tr>\n",
       "    <tr>\n",
       "      <th>3</th>\n",
       "      <td>Afghanistan</td>\n",
       "      <td>2008</td>\n",
       "      <td>26427199.0</td>\n",
       "      <td>189.0</td>\n",
       "      <td>59.0</td>\n",
       "      <td>3.51000</td>\n",
       "      <td>0.1</td>\n",
       "      <td>59.852</td>\n",
       "      <td>64.0</td>\n",
       "      <td>10.256495</td>\n",
       "      <td>26.5</td>\n",
       "      <td>387.849174</td>\n",
       "    </tr>\n",
       "    <tr>\n",
       "      <th>4</th>\n",
       "      <td>Afghanistan</td>\n",
       "      <td>2009</td>\n",
       "      <td>27385307.0</td>\n",
       "      <td>189.0</td>\n",
       "      <td>60.0</td>\n",
       "      <td>3.73000</td>\n",
       "      <td>0.1</td>\n",
       "      <td>60.364</td>\n",
       "      <td>63.0</td>\n",
       "      <td>9.818487</td>\n",
       "      <td>23.3</td>\n",
       "      <td>443.845151</td>\n",
       "    </tr>\n",
       "    <tr>\n",
       "      <th>...</th>\n",
       "      <td>...</td>\n",
       "      <td>...</td>\n",
       "      <td>...</td>\n",
       "      <td>...</td>\n",
       "      <td>...</td>\n",
       "      <td>...</td>\n",
       "      <td>...</td>\n",
       "      <td>...</td>\n",
       "      <td>...</td>\n",
       "      <td>...</td>\n",
       "      <td>...</td>\n",
       "      <td>...</td>\n",
       "    </tr>\n",
       "    <tr>\n",
       "      <th>2015</th>\n",
       "      <td>South Africa</td>\n",
       "      <td>2015</td>\n",
       "      <td>55876504.0</td>\n",
       "      <td>988.0</td>\n",
       "      <td>86.0</td>\n",
       "      <td>5.48285</td>\n",
       "      <td>18.2</td>\n",
       "      <td>63.950</td>\n",
       "      <td>85.0</td>\n",
       "      <td>8.790190</td>\n",
       "      <td>5.2</td>\n",
       "      <td>6204.929901</td>\n",
       "    </tr>\n",
       "    <tr>\n",
       "      <th>2016</th>\n",
       "      <td>South Africa</td>\n",
       "      <td>2016</td>\n",
       "      <td>56422274.0</td>\n",
       "      <td>805.0</td>\n",
       "      <td>84.0</td>\n",
       "      <td>5.44424</td>\n",
       "      <td>18.4</td>\n",
       "      <td>64.747</td>\n",
       "      <td>85.0</td>\n",
       "      <td>8.821429</td>\n",
       "      <td>5.4</td>\n",
       "      <td>5735.066787</td>\n",
       "    </tr>\n",
       "    <tr>\n",
       "      <th>2017</th>\n",
       "      <td>South Africa</td>\n",
       "      <td>2017</td>\n",
       "      <td>56641209.0</td>\n",
       "      <td>738.0</td>\n",
       "      <td>81.0</td>\n",
       "      <td>5.59867</td>\n",
       "      <td>18.5</td>\n",
       "      <td>65.402</td>\n",
       "      <td>84.0</td>\n",
       "      <td>8.722624</td>\n",
       "      <td>5.5</td>\n",
       "      <td>6734.475153</td>\n",
       "    </tr>\n",
       "    <tr>\n",
       "      <th>2018</th>\n",
       "      <td>South Africa</td>\n",
       "      <td>2018</td>\n",
       "      <td>57339635.0</td>\n",
       "      <td>677.0</td>\n",
       "      <td>81.0</td>\n",
       "      <td>5.64401</td>\n",
       "      <td>18.6</td>\n",
       "      <td>65.674</td>\n",
       "      <td>82.0</td>\n",
       "      <td>8.858297</td>\n",
       "      <td>5.7</td>\n",
       "      <td>7048.522211</td>\n",
       "    </tr>\n",
       "    <tr>\n",
       "      <th>2019</th>\n",
       "      <td>South Africa</td>\n",
       "      <td>2019</td>\n",
       "      <td>58087055.0</td>\n",
       "      <td>615.0</td>\n",
       "      <td>83.0</td>\n",
       "      <td>5.91771</td>\n",
       "      <td>18.6</td>\n",
       "      <td>66.175</td>\n",
       "      <td>85.0</td>\n",
       "      <td>9.109355</td>\n",
       "      <td>6.3</td>\n",
       "      <td>6688.787271</td>\n",
       "    </tr>\n",
       "  </tbody>\n",
       "</table>\n",
       "<p>2020 rows × 12 columns</p>\n",
       "</div>"
      ],
      "text/plain": [
       "           Country  Year  SP.POP.TOTL  SH.TBS.INCD  SH.IMM.MEAS   \n",
       "0      Afghanistan  2005   24411191.0        189.0         50.0  \\\n",
       "1      Afghanistan  2006   25442944.0        189.0         53.0   \n",
       "2      Afghanistan  2007   25903301.0        189.0         55.0   \n",
       "3      Afghanistan  2008   26427199.0        189.0         59.0   \n",
       "4      Afghanistan  2009   27385307.0        189.0         60.0   \n",
       "...            ...   ...          ...          ...          ...   \n",
       "2015  South Africa  2015   55876504.0        988.0         86.0   \n",
       "2016  South Africa  2016   56422274.0        805.0         84.0   \n",
       "2017  South Africa  2017   56641209.0        738.0         81.0   \n",
       "2018  South Africa  2018   57339635.0        677.0         81.0   \n",
       "2019  South Africa  2019   58087055.0        615.0         83.0   \n",
       "\n",
       "      SE.XPD.TOTL.GD.ZS  SH.DYN.AIDS.ZS  SP.DYN.LE00.IN  SH.IMM.IDPT   \n",
       "0               2.57000             0.1          58.361         58.0  \\\n",
       "1               2.90000             0.1          58.684         58.0   \n",
       "2               2.85000             0.1          59.111         63.0   \n",
       "3               3.51000             0.1          59.852         64.0   \n",
       "4               3.73000             0.1          60.364         63.0   \n",
       "...                 ...             ...             ...          ...   \n",
       "2015            5.48285            18.2          63.950         85.0   \n",
       "2016            5.44424            18.4          64.747         85.0   \n",
       "2017            5.59867            18.5          65.402         84.0   \n",
       "2018            5.64401            18.6          65.674         82.0   \n",
       "2019            5.91771            18.6          66.175         85.0   \n",
       "\n",
       "      SH.XPD.CHEX.GD.ZS  SN.ITK.DEFC.ZS  NY.GDP.PCAP.CD  \n",
       "0              9.948290            36.1      255.055120  \n",
       "1             10.622766            33.3      274.000486  \n",
       "2              9.904675            29.8      375.078128  \n",
       "3             10.256495            26.5      387.849174  \n",
       "4              9.818487            23.3      443.845151  \n",
       "...                 ...             ...             ...  \n",
       "2015           8.790190             5.2     6204.929901  \n",
       "2016           8.821429             5.4     5735.066787  \n",
       "2017           8.722624             5.5     6734.475153  \n",
       "2018           8.858297             5.7     7048.522211  \n",
       "2019           9.109355             6.3     6688.787271  \n",
       "\n",
       "[2020 rows x 12 columns]"
      ]
     },
     "execution_count": 2,
     "metadata": {},
     "output_type": "execute_result"
    }
   ],
   "source": [
    "df = load_who_dataset()['data']\n",
    "df"
   ]
  },
  {
   "cell_type": "code",
   "execution_count": 3,
   "id": "4a922563",
   "metadata": {
    "code_folding": [
     0,
     16
    ]
   },
   "outputs": [],
   "source": [
    "columns = np.array([\n",
    "    \"SP.POP.TOTL\",\n",
    "    \"SH.TBS.INCD\",\n",
    "    \"SH.IMM.MEAS\",\n",
    "    \"SE.XPD.TOTL.GD.ZS\",\n",
    "    \"SH.DYN.AIDS.ZS\",\n",
    "    \"SH.IMM.IDPT\",\n",
    "    \"SH.XPD.CHEX.GD.ZS\",\n",
    "    \"SN.ITK.DEFC.ZS\",\n",
    "    \"NY.GDP.PCAP.CD\",\n",
    "])\n",
    "\n",
    "column_names = np.array([\n",
    "    \"Population\",\n",
    "    \"Tuberculosis\",\n",
    "    \"Immunization, measles\",\n",
    "    \"Educ. Expenditure\",\n",
    "    \"HIV\",\n",
    "    \"Immunization, DPT\",\n",
    "    \"Health Expenditure\",\n",
    "    \"Undernourishment\",\n",
    "    \"GDP per capita\",\n",
    "])\n",
    "\n",
    "columns = columns[[8, 4, 5, 6, 1, 0, 7, 3, 2]].tolist()\n",
    "column_names = column_names[[8, 4, 5, 6, 1, 0, 7, 3, 2]].tolist()"
   ]
  },
  {
   "cell_type": "code",
   "execution_count": 4,
   "id": "3641aa97",
   "metadata": {
    "code_folding": []
   },
   "outputs": [
    {
     "name": "stdout",
     "output_type": "stream",
     "text": [
      "149841.0 7742681934.0\n",
      "110.460874721483 123678.70214327476\n"
     ]
    },
    {
     "data": {
      "text/plain": [
       "(2020, 9)"
      ]
     },
     "execution_count": 4,
     "metadata": {},
     "output_type": "execute_result"
    }
   ],
   "source": [
    "X_raw = np.array(df[columns]) \n",
    "\n",
    "# We are taking the logarithm of the population and GDP to avoid extreme distributions\n",
    "log_scaled = ['SP.POP.TOTL', 'NY.GDP.PCAP.CD']\n",
    "for ls in log_scaled:\n",
    "    print(X_raw[:, columns.index(ls)].min(), X_raw[:, columns.index(ls)].max())\n",
    "    if ls in columns:\n",
    "        X_raw[:, columns.index(ls)] = np.log10(\n",
    "            X_raw[:, columns.index(ls)]\n",
    "        )\n",
    "y_raw = np.array(df[\"SP.DYN.LE00.IN\"])  # [np.where(df['Year']==2000)[0]])\n",
    "y_raw = y_raw.reshape(-1, 1)\n",
    "X_raw.shape"
   ]
  },
  {
   "cell_type": "markdown",
   "id": "48efb8df",
   "metadata": {},
   "source": [
    "## Scale and Center the Features and Targets"
   ]
  },
  {
   "cell_type": "code",
   "execution_count": 5,
   "id": "a8390087",
   "metadata": {},
   "outputs": [],
   "source": [
    "x_scaler = StandardFlexibleScaler(column_wise=True)\n",
    "X = x_scaler.fit_transform(X_raw)\n",
    "\n",
    "y_scaler = StandardFlexibleScaler(column_wise=True)\n",
    "y = y_scaler.fit_transform(y_raw)\n",
    "\n",
    "n_components = 2\n",
    "\n",
    "X_train, X_test, y_train, y_test = train_test_split(X, y, test_size=0.3, shuffle=True)"
   ]
  },
  {
   "cell_type": "markdown",
   "id": "182aa30c",
   "metadata": {},
   "source": [
    "## Provide an estimated target for the feature selector"
   ]
  },
  {
   "cell_type": "code",
   "execution_count": 6,
   "id": "31e888c3",
   "metadata": {},
   "outputs": [],
   "source": [
    "kernel_params = {\"kernel\": \"rbf\", \"gamma\": 0.08858667904100832}\n",
    "krr = KernelRidge(alpha=0.006158482110660267, **kernel_params)\n",
    "\n",
    "yp_train = krr.fit(X_train, y_train).predict(X_train)"
   ]
  },
  {
   "cell_type": "markdown",
   "id": "534813f6",
   "metadata": {},
   "source": [
    "## Compute the Selections for Each Selector Type"
   ]
  },
  {
   "cell_type": "code",
   "execution_count": 7,
   "id": "0717092c",
   "metadata": {},
   "outputs": [],
   "source": [
    "n_select = X.shape[1]"
   ]
  },
  {
   "cell_type": "markdown",
   "id": "ddf6964c",
   "metadata": {},
   "source": [
    "### PCov-CUR"
   ]
  },
  {
   "cell_type": "code",
   "execution_count": 8,
   "id": "c029658b",
   "metadata": {
    "scrolled": false
   },
   "outputs": [
    {
     "data": {
      "application/vnd.jupyter.widget-view+json": {
       "model_id": "be93be55f2614211b829bd6dc92d927e",
       "version_major": 2,
       "version_minor": 0
      },
      "text/plain": [
       "  0%|          | 0/9 [00:00<?, ?it/s]"
      ]
     },
     "metadata": {},
     "output_type": "display_data"
    },
    {
     "data": {
      "text/html": [
       "<style>#sk-container-id-1 {color: black;background-color: white;}#sk-container-id-1 pre{padding: 0;}#sk-container-id-1 div.sk-toggleable {background-color: white;}#sk-container-id-1 label.sk-toggleable__label {cursor: pointer;display: block;width: 100%;margin-bottom: 0;padding: 0.3em;box-sizing: border-box;text-align: center;}#sk-container-id-1 label.sk-toggleable__label-arrow:before {content: \"▸\";float: left;margin-right: 0.25em;color: #696969;}#sk-container-id-1 label.sk-toggleable__label-arrow:hover:before {color: black;}#sk-container-id-1 div.sk-estimator:hover label.sk-toggleable__label-arrow:before {color: black;}#sk-container-id-1 div.sk-toggleable__content {max-height: 0;max-width: 0;overflow: hidden;text-align: left;background-color: #f0f8ff;}#sk-container-id-1 div.sk-toggleable__content pre {margin: 0.2em;color: black;border-radius: 0.25em;background-color: #f0f8ff;}#sk-container-id-1 input.sk-toggleable__control:checked~div.sk-toggleable__content {max-height: 200px;max-width: 100%;overflow: auto;}#sk-container-id-1 input.sk-toggleable__control:checked~label.sk-toggleable__label-arrow:before {content: \"▾\";}#sk-container-id-1 div.sk-estimator input.sk-toggleable__control:checked~label.sk-toggleable__label {background-color: #d4ebff;}#sk-container-id-1 div.sk-label input.sk-toggleable__control:checked~label.sk-toggleable__label {background-color: #d4ebff;}#sk-container-id-1 input.sk-hidden--visually {border: 0;clip: rect(1px 1px 1px 1px);clip: rect(1px, 1px, 1px, 1px);height: 1px;margin: -1px;overflow: hidden;padding: 0;position: absolute;width: 1px;}#sk-container-id-1 div.sk-estimator {font-family: monospace;background-color: #f0f8ff;border: 1px dotted black;border-radius: 0.25em;box-sizing: border-box;margin-bottom: 0.5em;}#sk-container-id-1 div.sk-estimator:hover {background-color: #d4ebff;}#sk-container-id-1 div.sk-parallel-item::after {content: \"\";width: 100%;border-bottom: 1px solid gray;flex-grow: 1;}#sk-container-id-1 div.sk-label:hover label.sk-toggleable__label {background-color: #d4ebff;}#sk-container-id-1 div.sk-serial::before {content: \"\";position: absolute;border-left: 1px solid gray;box-sizing: border-box;top: 0;bottom: 0;left: 50%;z-index: 0;}#sk-container-id-1 div.sk-serial {display: flex;flex-direction: column;align-items: center;background-color: white;padding-right: 0.2em;padding-left: 0.2em;position: relative;}#sk-container-id-1 div.sk-item {position: relative;z-index: 1;}#sk-container-id-1 div.sk-parallel {display: flex;align-items: stretch;justify-content: center;background-color: white;position: relative;}#sk-container-id-1 div.sk-item::before, #sk-container-id-1 div.sk-parallel-item::before {content: \"\";position: absolute;border-left: 1px solid gray;box-sizing: border-box;top: 0;bottom: 0;left: 50%;z-index: -1;}#sk-container-id-1 div.sk-parallel-item {display: flex;flex-direction: column;z-index: 1;position: relative;background-color: white;}#sk-container-id-1 div.sk-parallel-item:first-child::after {align-self: flex-end;width: 50%;}#sk-container-id-1 div.sk-parallel-item:last-child::after {align-self: flex-start;width: 50%;}#sk-container-id-1 div.sk-parallel-item:only-child::after {width: 0;}#sk-container-id-1 div.sk-dashed-wrapped {border: 1px dashed gray;margin: 0 0.4em 0.5em 0.4em;box-sizing: border-box;padding-bottom: 0.4em;background-color: white;}#sk-container-id-1 div.sk-label label {font-family: monospace;font-weight: bold;display: inline-block;line-height: 1.2em;}#sk-container-id-1 div.sk-label-container {text-align: center;}#sk-container-id-1 div.sk-container {/* jupyter's `normalize.less` sets `[hidden] { display: none; }` but bootstrap.min.css set `[hidden] { display: none !important; }` so we also need the `!important` here to be able to override the default hidden behavior on the sphinx rendered scikit-learn.org. See: https://github.com/scikit-learn/scikit-learn/issues/21755 */display: inline-block !important;position: relative;}#sk-container-id-1 div.sk-text-repr-fallback {display: none;}</style><div id=\"sk-container-id-1\" class=\"sk-top-container\"><div class=\"sk-text-repr-fallback\"><pre>PCovCUR(mixing=0.0, n_to_select=9, progress_bar=True)</pre><b>In a Jupyter environment, please rerun this cell to show the HTML representation or trust the notebook. <br />On GitHub, the HTML representation is unable to render, please try loading this page with nbviewer.org.</b></div><div class=\"sk-container\" hidden><div class=\"sk-item\"><div class=\"sk-estimator sk-toggleable\"><input class=\"sk-toggleable__control sk-hidden--visually\" id=\"sk-estimator-id-1\" type=\"checkbox\" checked><label for=\"sk-estimator-id-1\" class=\"sk-toggleable__label sk-toggleable__label-arrow\">PCovCUR</label><div class=\"sk-toggleable__content\"><pre>PCovCUR(mixing=0.0, n_to_select=9, progress_bar=True)</pre></div></div></div></div></div>"
      ],
      "text/plain": [
       "PCovCUR(mixing=0.0, n_to_select=9, progress_bar=True)"
      ]
     },
     "execution_count": 8,
     "metadata": {},
     "output_type": "execute_result"
    }
   ],
   "source": [
    "pcur = PCovCUR(n_to_select=n_select, progress_bar=True, mixing=0.0)\n",
    "pcur.fit(X_train, yp_train)"
   ]
  },
  {
   "cell_type": "markdown",
   "id": "c90f65dd",
   "metadata": {},
   "source": [
    "### PCov-FPS"
   ]
  },
  {
   "cell_type": "code",
   "execution_count": 9,
   "id": "e1c73d4b",
   "metadata": {},
   "outputs": [
    {
     "data": {
      "application/vnd.jupyter.widget-view+json": {
       "model_id": "b680b63486304f62af2ce47eb887a183",
       "version_major": 2,
       "version_minor": 0
      },
      "text/plain": [
       "  0%|          | 0/8 [00:00<?, ?it/s]"
      ]
     },
     "metadata": {},
     "output_type": "display_data"
    },
    {
     "data": {
      "text/html": [
       "<style>#sk-container-id-2 {color: black;background-color: white;}#sk-container-id-2 pre{padding: 0;}#sk-container-id-2 div.sk-toggleable {background-color: white;}#sk-container-id-2 label.sk-toggleable__label {cursor: pointer;display: block;width: 100%;margin-bottom: 0;padding: 0.3em;box-sizing: border-box;text-align: center;}#sk-container-id-2 label.sk-toggleable__label-arrow:before {content: \"▸\";float: left;margin-right: 0.25em;color: #696969;}#sk-container-id-2 label.sk-toggleable__label-arrow:hover:before {color: black;}#sk-container-id-2 div.sk-estimator:hover label.sk-toggleable__label-arrow:before {color: black;}#sk-container-id-2 div.sk-toggleable__content {max-height: 0;max-width: 0;overflow: hidden;text-align: left;background-color: #f0f8ff;}#sk-container-id-2 div.sk-toggleable__content pre {margin: 0.2em;color: black;border-radius: 0.25em;background-color: #f0f8ff;}#sk-container-id-2 input.sk-toggleable__control:checked~div.sk-toggleable__content {max-height: 200px;max-width: 100%;overflow: auto;}#sk-container-id-2 input.sk-toggleable__control:checked~label.sk-toggleable__label-arrow:before {content: \"▾\";}#sk-container-id-2 div.sk-estimator input.sk-toggleable__control:checked~label.sk-toggleable__label {background-color: #d4ebff;}#sk-container-id-2 div.sk-label input.sk-toggleable__control:checked~label.sk-toggleable__label {background-color: #d4ebff;}#sk-container-id-2 input.sk-hidden--visually {border: 0;clip: rect(1px 1px 1px 1px);clip: rect(1px, 1px, 1px, 1px);height: 1px;margin: -1px;overflow: hidden;padding: 0;position: absolute;width: 1px;}#sk-container-id-2 div.sk-estimator {font-family: monospace;background-color: #f0f8ff;border: 1px dotted black;border-radius: 0.25em;box-sizing: border-box;margin-bottom: 0.5em;}#sk-container-id-2 div.sk-estimator:hover {background-color: #d4ebff;}#sk-container-id-2 div.sk-parallel-item::after {content: \"\";width: 100%;border-bottom: 1px solid gray;flex-grow: 1;}#sk-container-id-2 div.sk-label:hover label.sk-toggleable__label {background-color: #d4ebff;}#sk-container-id-2 div.sk-serial::before {content: \"\";position: absolute;border-left: 1px solid gray;box-sizing: border-box;top: 0;bottom: 0;left: 50%;z-index: 0;}#sk-container-id-2 div.sk-serial {display: flex;flex-direction: column;align-items: center;background-color: white;padding-right: 0.2em;padding-left: 0.2em;position: relative;}#sk-container-id-2 div.sk-item {position: relative;z-index: 1;}#sk-container-id-2 div.sk-parallel {display: flex;align-items: stretch;justify-content: center;background-color: white;position: relative;}#sk-container-id-2 div.sk-item::before, #sk-container-id-2 div.sk-parallel-item::before {content: \"\";position: absolute;border-left: 1px solid gray;box-sizing: border-box;top: 0;bottom: 0;left: 50%;z-index: -1;}#sk-container-id-2 div.sk-parallel-item {display: flex;flex-direction: column;z-index: 1;position: relative;background-color: white;}#sk-container-id-2 div.sk-parallel-item:first-child::after {align-self: flex-end;width: 50%;}#sk-container-id-2 div.sk-parallel-item:last-child::after {align-self: flex-start;width: 50%;}#sk-container-id-2 div.sk-parallel-item:only-child::after {width: 0;}#sk-container-id-2 div.sk-dashed-wrapped {border: 1px dashed gray;margin: 0 0.4em 0.5em 0.4em;box-sizing: border-box;padding-bottom: 0.4em;background-color: white;}#sk-container-id-2 div.sk-label label {font-family: monospace;font-weight: bold;display: inline-block;line-height: 1.2em;}#sk-container-id-2 div.sk-label-container {text-align: center;}#sk-container-id-2 div.sk-container {/* jupyter's `normalize.less` sets `[hidden] { display: none; }` but bootstrap.min.css set `[hidden] { display: none !important; }` so we also need the `!important` here to be able to override the default hidden behavior on the sphinx rendered scikit-learn.org. See: https://github.com/scikit-learn/scikit-learn/issues/21755 */display: inline-block !important;position: relative;}#sk-container-id-2 div.sk-text-repr-fallback {display: none;}</style><div id=\"sk-container-id-2\" class=\"sk-top-container\"><div class=\"sk-text-repr-fallback\"><pre>PCovFPS(mixing=0.0, n_to_select=9, progress_bar=True)</pre><b>In a Jupyter environment, please rerun this cell to show the HTML representation or trust the notebook. <br />On GitHub, the HTML representation is unable to render, please try loading this page with nbviewer.org.</b></div><div class=\"sk-container\" hidden><div class=\"sk-item\"><div class=\"sk-estimator sk-toggleable\"><input class=\"sk-toggleable__control sk-hidden--visually\" id=\"sk-estimator-id-2\" type=\"checkbox\" checked><label for=\"sk-estimator-id-2\" class=\"sk-toggleable__label sk-toggleable__label-arrow\">PCovFPS</label><div class=\"sk-toggleable__content\"><pre>PCovFPS(mixing=0.0, n_to_select=9, progress_bar=True)</pre></div></div></div></div></div>"
      ],
      "text/plain": [
       "PCovFPS(mixing=0.0, n_to_select=9, progress_bar=True)"
      ]
     },
     "execution_count": 9,
     "metadata": {},
     "output_type": "execute_result"
    }
   ],
   "source": [
    "pfps = PCovFPS(n_to_select=n_select, progress_bar=True, mixing=0.0, initialize=pcur.selected_idx_[0])\n",
    "pfps.fit(X_train, yp_train)"
   ]
  },
  {
   "cell_type": "markdown",
   "id": "6114b4fb",
   "metadata": {},
   "source": [
    "### CUR"
   ]
  },
  {
   "cell_type": "code",
   "execution_count": 10,
   "id": "e21af955",
   "metadata": {},
   "outputs": [
    {
     "data": {
      "application/vnd.jupyter.widget-view+json": {
       "model_id": "c6987bf8daa54ccf994a352dfb0aab94",
       "version_major": 2,
       "version_minor": 0
      },
      "text/plain": [
       "  0%|          | 0/9 [00:00<?, ?it/s]"
      ]
     },
     "metadata": {},
     "output_type": "display_data"
    },
    {
     "data": {
      "text/html": [
       "<style>#sk-container-id-3 {color: black;background-color: white;}#sk-container-id-3 pre{padding: 0;}#sk-container-id-3 div.sk-toggleable {background-color: white;}#sk-container-id-3 label.sk-toggleable__label {cursor: pointer;display: block;width: 100%;margin-bottom: 0;padding: 0.3em;box-sizing: border-box;text-align: center;}#sk-container-id-3 label.sk-toggleable__label-arrow:before {content: \"▸\";float: left;margin-right: 0.25em;color: #696969;}#sk-container-id-3 label.sk-toggleable__label-arrow:hover:before {color: black;}#sk-container-id-3 div.sk-estimator:hover label.sk-toggleable__label-arrow:before {color: black;}#sk-container-id-3 div.sk-toggleable__content {max-height: 0;max-width: 0;overflow: hidden;text-align: left;background-color: #f0f8ff;}#sk-container-id-3 div.sk-toggleable__content pre {margin: 0.2em;color: black;border-radius: 0.25em;background-color: #f0f8ff;}#sk-container-id-3 input.sk-toggleable__control:checked~div.sk-toggleable__content {max-height: 200px;max-width: 100%;overflow: auto;}#sk-container-id-3 input.sk-toggleable__control:checked~label.sk-toggleable__label-arrow:before {content: \"▾\";}#sk-container-id-3 div.sk-estimator input.sk-toggleable__control:checked~label.sk-toggleable__label {background-color: #d4ebff;}#sk-container-id-3 div.sk-label input.sk-toggleable__control:checked~label.sk-toggleable__label {background-color: #d4ebff;}#sk-container-id-3 input.sk-hidden--visually {border: 0;clip: rect(1px 1px 1px 1px);clip: rect(1px, 1px, 1px, 1px);height: 1px;margin: -1px;overflow: hidden;padding: 0;position: absolute;width: 1px;}#sk-container-id-3 div.sk-estimator {font-family: monospace;background-color: #f0f8ff;border: 1px dotted black;border-radius: 0.25em;box-sizing: border-box;margin-bottom: 0.5em;}#sk-container-id-3 div.sk-estimator:hover {background-color: #d4ebff;}#sk-container-id-3 div.sk-parallel-item::after {content: \"\";width: 100%;border-bottom: 1px solid gray;flex-grow: 1;}#sk-container-id-3 div.sk-label:hover label.sk-toggleable__label {background-color: #d4ebff;}#sk-container-id-3 div.sk-serial::before {content: \"\";position: absolute;border-left: 1px solid gray;box-sizing: border-box;top: 0;bottom: 0;left: 50%;z-index: 0;}#sk-container-id-3 div.sk-serial {display: flex;flex-direction: column;align-items: center;background-color: white;padding-right: 0.2em;padding-left: 0.2em;position: relative;}#sk-container-id-3 div.sk-item {position: relative;z-index: 1;}#sk-container-id-3 div.sk-parallel {display: flex;align-items: stretch;justify-content: center;background-color: white;position: relative;}#sk-container-id-3 div.sk-item::before, #sk-container-id-3 div.sk-parallel-item::before {content: \"\";position: absolute;border-left: 1px solid gray;box-sizing: border-box;top: 0;bottom: 0;left: 50%;z-index: -1;}#sk-container-id-3 div.sk-parallel-item {display: flex;flex-direction: column;z-index: 1;position: relative;background-color: white;}#sk-container-id-3 div.sk-parallel-item:first-child::after {align-self: flex-end;width: 50%;}#sk-container-id-3 div.sk-parallel-item:last-child::after {align-self: flex-start;width: 50%;}#sk-container-id-3 div.sk-parallel-item:only-child::after {width: 0;}#sk-container-id-3 div.sk-dashed-wrapped {border: 1px dashed gray;margin: 0 0.4em 0.5em 0.4em;box-sizing: border-box;padding-bottom: 0.4em;background-color: white;}#sk-container-id-3 div.sk-label label {font-family: monospace;font-weight: bold;display: inline-block;line-height: 1.2em;}#sk-container-id-3 div.sk-label-container {text-align: center;}#sk-container-id-3 div.sk-container {/* jupyter's `normalize.less` sets `[hidden] { display: none; }` but bootstrap.min.css set `[hidden] { display: none !important; }` so we also need the `!important` here to be able to override the default hidden behavior on the sphinx rendered scikit-learn.org. See: https://github.com/scikit-learn/scikit-learn/issues/21755 */display: inline-block !important;position: relative;}#sk-container-id-3 div.sk-text-repr-fallback {display: none;}</style><div id=\"sk-container-id-3\" class=\"sk-top-container\"><div class=\"sk-text-repr-fallback\"><pre>CUR(n_to_select=9, progress_bar=True)</pre><b>In a Jupyter environment, please rerun this cell to show the HTML representation or trust the notebook. <br />On GitHub, the HTML representation is unable to render, please try loading this page with nbviewer.org.</b></div><div class=\"sk-container\" hidden><div class=\"sk-item\"><div class=\"sk-estimator sk-toggleable\"><input class=\"sk-toggleable__control sk-hidden--visually\" id=\"sk-estimator-id-3\" type=\"checkbox\" checked><label for=\"sk-estimator-id-3\" class=\"sk-toggleable__label sk-toggleable__label-arrow\">CUR</label><div class=\"sk-toggleable__content\"><pre>CUR(n_to_select=9, progress_bar=True)</pre></div></div></div></div></div>"
      ],
      "text/plain": [
       "CUR(n_to_select=9, progress_bar=True)"
      ]
     },
     "execution_count": 10,
     "metadata": {},
     "output_type": "execute_result"
    }
   ],
   "source": [
    "cur = CUR(n_to_select=n_select, progress_bar=True)\n",
    "cur.fit(X_train, y_train)"
   ]
  },
  {
   "cell_type": "markdown",
   "id": "5acf6d6b",
   "metadata": {},
   "source": [
    "### FPS"
   ]
  },
  {
   "cell_type": "code",
   "execution_count": 11,
   "id": "d206734f",
   "metadata": {},
   "outputs": [
    {
     "data": {
      "application/vnd.jupyter.widget-view+json": {
       "model_id": "53ef93ef91ca4d4b8e23f3def4780409",
       "version_major": 2,
       "version_minor": 0
      },
      "text/plain": [
       "  0%|          | 0/8 [00:00<?, ?it/s]"
      ]
     },
     "metadata": {},
     "output_type": "display_data"
    },
    {
     "data": {
      "text/html": [
       "<style>#sk-container-id-4 {color: black;background-color: white;}#sk-container-id-4 pre{padding: 0;}#sk-container-id-4 div.sk-toggleable {background-color: white;}#sk-container-id-4 label.sk-toggleable__label {cursor: pointer;display: block;width: 100%;margin-bottom: 0;padding: 0.3em;box-sizing: border-box;text-align: center;}#sk-container-id-4 label.sk-toggleable__label-arrow:before {content: \"▸\";float: left;margin-right: 0.25em;color: #696969;}#sk-container-id-4 label.sk-toggleable__label-arrow:hover:before {color: black;}#sk-container-id-4 div.sk-estimator:hover label.sk-toggleable__label-arrow:before {color: black;}#sk-container-id-4 div.sk-toggleable__content {max-height: 0;max-width: 0;overflow: hidden;text-align: left;background-color: #f0f8ff;}#sk-container-id-4 div.sk-toggleable__content pre {margin: 0.2em;color: black;border-radius: 0.25em;background-color: #f0f8ff;}#sk-container-id-4 input.sk-toggleable__control:checked~div.sk-toggleable__content {max-height: 200px;max-width: 100%;overflow: auto;}#sk-container-id-4 input.sk-toggleable__control:checked~label.sk-toggleable__label-arrow:before {content: \"▾\";}#sk-container-id-4 div.sk-estimator input.sk-toggleable__control:checked~label.sk-toggleable__label {background-color: #d4ebff;}#sk-container-id-4 div.sk-label input.sk-toggleable__control:checked~label.sk-toggleable__label {background-color: #d4ebff;}#sk-container-id-4 input.sk-hidden--visually {border: 0;clip: rect(1px 1px 1px 1px);clip: rect(1px, 1px, 1px, 1px);height: 1px;margin: -1px;overflow: hidden;padding: 0;position: absolute;width: 1px;}#sk-container-id-4 div.sk-estimator {font-family: monospace;background-color: #f0f8ff;border: 1px dotted black;border-radius: 0.25em;box-sizing: border-box;margin-bottom: 0.5em;}#sk-container-id-4 div.sk-estimator:hover {background-color: #d4ebff;}#sk-container-id-4 div.sk-parallel-item::after {content: \"\";width: 100%;border-bottom: 1px solid gray;flex-grow: 1;}#sk-container-id-4 div.sk-label:hover label.sk-toggleable__label {background-color: #d4ebff;}#sk-container-id-4 div.sk-serial::before {content: \"\";position: absolute;border-left: 1px solid gray;box-sizing: border-box;top: 0;bottom: 0;left: 50%;z-index: 0;}#sk-container-id-4 div.sk-serial {display: flex;flex-direction: column;align-items: center;background-color: white;padding-right: 0.2em;padding-left: 0.2em;position: relative;}#sk-container-id-4 div.sk-item {position: relative;z-index: 1;}#sk-container-id-4 div.sk-parallel {display: flex;align-items: stretch;justify-content: center;background-color: white;position: relative;}#sk-container-id-4 div.sk-item::before, #sk-container-id-4 div.sk-parallel-item::before {content: \"\";position: absolute;border-left: 1px solid gray;box-sizing: border-box;top: 0;bottom: 0;left: 50%;z-index: -1;}#sk-container-id-4 div.sk-parallel-item {display: flex;flex-direction: column;z-index: 1;position: relative;background-color: white;}#sk-container-id-4 div.sk-parallel-item:first-child::after {align-self: flex-end;width: 50%;}#sk-container-id-4 div.sk-parallel-item:last-child::after {align-self: flex-start;width: 50%;}#sk-container-id-4 div.sk-parallel-item:only-child::after {width: 0;}#sk-container-id-4 div.sk-dashed-wrapped {border: 1px dashed gray;margin: 0 0.4em 0.5em 0.4em;box-sizing: border-box;padding-bottom: 0.4em;background-color: white;}#sk-container-id-4 div.sk-label label {font-family: monospace;font-weight: bold;display: inline-block;line-height: 1.2em;}#sk-container-id-4 div.sk-label-container {text-align: center;}#sk-container-id-4 div.sk-container {/* jupyter's `normalize.less` sets `[hidden] { display: none; }` but bootstrap.min.css set `[hidden] { display: none !important; }` so we also need the `!important` here to be able to override the default hidden behavior on the sphinx rendered scikit-learn.org. See: https://github.com/scikit-learn/scikit-learn/issues/21755 */display: inline-block !important;position: relative;}#sk-container-id-4 div.sk-text-repr-fallback {display: none;}</style><div id=\"sk-container-id-4\" class=\"sk-top-container\"><div class=\"sk-text-repr-fallback\"><pre>FPS(initialize=2, n_to_select=9, progress_bar=True)</pre><b>In a Jupyter environment, please rerun this cell to show the HTML representation or trust the notebook. <br />On GitHub, the HTML representation is unable to render, please try loading this page with nbviewer.org.</b></div><div class=\"sk-container\" hidden><div class=\"sk-item\"><div class=\"sk-estimator sk-toggleable\"><input class=\"sk-toggleable__control sk-hidden--visually\" id=\"sk-estimator-id-4\" type=\"checkbox\" checked><label for=\"sk-estimator-id-4\" class=\"sk-toggleable__label sk-toggleable__label-arrow\">FPS</label><div class=\"sk-toggleable__content\"><pre>FPS(initialize=2, n_to_select=9, progress_bar=True)</pre></div></div></div></div></div>"
      ],
      "text/plain": [
       "FPS(initialize=2, n_to_select=9, progress_bar=True)"
      ]
     },
     "execution_count": 11,
     "metadata": {},
     "output_type": "execute_result"
    }
   ],
   "source": [
    "fps = FPS(n_to_select=n_select, progress_bar=True, initialize=cur.selected_idx_[0])\n",
    "fps.fit(X_train, y_train)"
   ]
  },
  {
   "cell_type": "markdown",
   "id": "1068772f",
   "metadata": {},
   "source": [
    "### (For Comparison) Recurisive Feature Addition"
   ]
  },
  {
   "cell_type": "code",
   "execution_count": 12,
   "id": "539367e3",
   "metadata": {},
   "outputs": [],
   "source": [
    "class RecursiveFeatureAddition:\n",
    "    def __init__(self, n_to_select):\n",
    "        self.n_to_select = n_to_select\n",
    "        self.selected_idx_ = np.zeros(n_to_select, dtype=int)\n",
    "    def fit(self, X, y):\n",
    "        remaining = np.arange(X.shape[1])\n",
    "        for n in range(self.n_to_select):\n",
    "            errors = np.zeros(len(remaining))\n",
    "            for i, pp in enumerate(remaining):\n",
    "                krr.fit(\n",
    "                    X[:, [*self.selected_idx_[:n], pp]], y\n",
    "                )\n",
    "                errors[i] = krr.score(X[:, [*self.selected_idx_[:n], pp]], y)\n",
    "            self.selected_idx_[n] = remaining[np.argmax(errors)]\n",
    "            remaining = np.array(np.delete(remaining, np.argmax(errors)), dtype=int)\n",
    "        return self\n",
    "rfa = RecursiveFeatureAddition(n_select).fit(X_train, y_train)"
   ]
  },
  {
   "cell_type": "markdown",
   "id": "739cfdde",
   "metadata": {},
   "source": [
    "## Plot our Results"
   ]
  },
  {
   "cell_type": "code",
   "execution_count": 13,
   "id": "bd60c84e",
   "metadata": {
    "code_folding": [],
    "scrolled": false
   },
   "outputs": [
    {
     "data": {
      "image/png": "[encoded data removed]",
      "text/plain": [
       "<Figure size 375x500 with 2 Axes>"
      ]
     },
     "metadata": {},
     "output_type": "display_data"
    }
   ],
   "source": [
    "fig, axes = plt.subplots(2, 1,figsize=(3.75, 5), gridspec_kw=dict(height_ratios=(1,1.5)), sharex=True)\n",
    "ns = np.arange(1, n_select, dtype=int)\n",
    "\n",
    "all_errors = {}\n",
    "for selector, color, linestyle, label in zip(\n",
    "    [cur, fps, pcur, pfps, rfa],\n",
    "    [\"lightcoral\", \"dodgerblue\", \"red\", \"blue\", \"black\"],\n",
    "    [\"solid\", \"solid\", \"solid\", \"solid\", \"dashed\"],\n",
    "    [\n",
    "        \"CUR\",\n",
    "        \"FPS\",\n",
    "        \"PCov-CUR\\n\"+r\"($\\alpha=0.0$)\",\n",
    "        \"PCov-FPS\\n\"+r\"($\\alpha=0.0$)\",\n",
    "        \"Recursive\\nFeature\\nSelection\",\n",
    "    ],  \n",
    "):\n",
    "    if label not in all_errors:\n",
    "        errors = np.zeros(len(ns))\n",
    "        for i, n in enumerate(ns):\n",
    "            krr.fit(X_train[:, selector.selected_idx_[:n]], y_train)\n",
    "            errors[i] = krr.score(X_test[:, selector.selected_idx_[:n]], y_test)\n",
    "        all_errors[label] = errors\n",
    "    axes[0].plot(ns, all_errors[label], c=color, label=label, linestyle=linestyle)\n",
    "    axes[1].plot(ns, selector.selected_idx_[:max(ns)], c=color, marker='.', linestyle=linestyle)\n",
    "\n",
    "axes[1].set_xlabel(r\"$n_{select}$\")\n",
    "axes[1].set_xticks(range(1, n_select))\n",
    "axes[0].set_ylabel(r\"R$^2$\")\n",
    "axes[1].set_yticks(np.arange(X.shape[1]))\n",
    "axes[1].set_yticklabels(column_names, rotation=30, fontsize=10)\n",
    "axes[0].legend(ncol=2, fontsize=8, bbox_to_anchor=(0.5, 1.0), loc='lower center')\n",
    "axes[1].invert_yaxis()\n",
    "axes[1].grid(axis='y', alpha=0.5)\n",
    "plt.tight_layout()\n",
    "plt.savefig('who-selection.png', bbox_inches='tight')\n",
    "plt.show()"
   ]
  },
  {
   "cell_type": "code",
   "execution_count": null,
   "id": "4c923bfb",
   "metadata": {},
   "outputs": [],
   "source": []
  }
 ],
 "metadata": {
  "hide_input": false,
  "kernelspec": {
   "display_name": "Python 3 (ipykernel)",
   "language": "python",
   "name": "python3"
  },
  "language_info": {
   "codemirror_mode": {
    "name": "ipython",
    "version": 3
   },
   "file_extension": ".py",
   "mimetype": "text/x-python",
   "name": "python",
   "nbconvert_exporter": "python",
   "pygments_lexer": "ipython3",
   "version": "3.8.10"
  },
  "toc": {
   "base_numbering": 1,
   "nav_menu": {},
   "number_sections": true,
   "sideBar": true,
   "skip_h1_title": false,
   "title_cell": "Table of Contents",
   "title_sidebar": "Contents",
   "toc_cell": false,
   "toc_position": {},
   "toc_section_display": true,
   "toc_window_display": false
  }
 },
 "nbformat": 4,
 "nbformat_minor": 5
}
